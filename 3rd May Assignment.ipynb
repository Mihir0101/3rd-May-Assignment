{
 "cells": [
  {
   "cell_type": "markdown",
   "id": "bee2b9df-c86b-42de-a737-95c5ecfe7d39",
   "metadata": {},
   "source": [
    "# 3rd May Assignment"
   ]
  },
  {
   "cell_type": "code",
   "execution_count": null,
   "id": "711a1446-c004-4857-aee5-8a762a456b43",
   "metadata": {},
   "outputs": [],
   "source": []
  },
  {
   "cell_type": "markdown",
   "id": "060b6104-7a26-489c-8f95-2077a49e84ed",
   "metadata": {},
   "source": [
    "## Q1. What is the role of feature selection in anomaly detection?"
   ]
  },
  {
   "cell_type": "markdown",
   "id": "58376f70-57fd-491c-8846-63a4c6870e1e",
   "metadata": {},
   "source": [
    "Through feature selection we remove unwanted features from the data and we also remove the outlier which may be contained by those disselected features.\n",
    "\n",
    "Some features in data contain noise with it, so if we remove that features so anomaly detection can effectively distinguish between normal and anomalous patters.\n",
    "\n",
    "By feature selection we can build more effective and efficient model.\n",
    "\n",
    "Feature selection simplyfies the model's structure, that make easy to understand for analysts and domain experts that what factors are contributing to anomalies."
   ]
  },
  {
   "cell_type": "code",
   "execution_count": null,
   "id": "c57c1b52-b1a3-482c-b6a2-69169cba3bf4",
   "metadata": {},
   "outputs": [],
   "source": []
  },
  {
   "cell_type": "markdown",
   "id": "b6b544b2-f2d8-459d-8b4d-9809875fe985",
   "metadata": {},
   "source": [
    "## Q2. What are some common evaluation metrics for anomaly detection algorithms and how are they computed?"
   ]
  },
  {
   "cell_type": "markdown",
   "id": "a0305c68-1f06-4d38-bc4e-5e05650f95d6",
   "metadata": {},
   "source": [
    "Accuracy - ( TP + TN ) + ( TP + TN + FP + FN )\n",
    "\n",
    "Precision - TP / (TP + FP)\n",
    "\n",
    "Recall - TP / (TP + FN)\n",
    "\n",
    "F-Score Beta - 2 * (Precision * Recall) / (Precision + Recall)\n",
    "\n",
    "Mathews Correlation Coefficient - (TP * TN - FP * FN) / sqrt((TP + FP) * (TP + FN) * (TN + FP) * (TN + FN))"
   ]
  },
  {
   "cell_type": "code",
   "execution_count": null,
   "id": "aa0e6683-9865-49f4-bbd6-6eac30d3833f",
   "metadata": {},
   "outputs": [],
   "source": []
  },
  {
   "cell_type": "markdown",
   "id": "289ba74b-2b72-409b-8482-99115adc9d13",
   "metadata": {},
   "source": [
    "## Q3. What is DBSCAN and how does it work for clustering?"
   ]
  },
  {
   "cell_type": "markdown",
   "id": "eef9b96c-6edb-40c9-8390-75d453a52737",
   "metadata": {},
   "source": [
    "DBSCAN is stands for Density-Based Spatial Clustering Applications with Noised.\\\n",
    "\n",
    "It is a desity based clustering algorithm.\n",
    "\n",
    "* How does it work for clustering?\n",
    "\n",
    "First of all we have to create circles by given radius.\n",
    "\n",
    "There is three circle points in this technique that decides in which category the new data will exist.\n",
    "\n",
    "Center Point - Points in a circle should be greater than minimum points(center point included).\n",
    "\n",
    "Border Point - Point in a circle should be less than minimum points(border point excluded).\n",
    "\n",
    "Noise Point - None of point lies in this point's circle."
   ]
  },
  {
   "cell_type": "code",
   "execution_count": null,
   "id": "491d389b-542b-437f-9023-8ddd78d3b52d",
   "metadata": {},
   "outputs": [],
   "source": []
  },
  {
   "cell_type": "markdown",
   "id": "d3ccb018-3e52-4d9c-ad4a-9e3ff278b49b",
   "metadata": {},
   "source": [
    "## Q4. How does the epsilon parameter affect the performance of DBSCAN in detecting anomalies?"
   ]
  },
  {
   "cell_type": "markdown",
   "id": "fa9d04aa-8105-4466-b300-132215407842",
   "metadata": {},
   "source": [
    "More smaller value of epsilon creates clusters that are more denser to variation, it will consider only those datapoints as neighborhood which are too closer to it.\n",
    "\n",
    "Larger epsilon value results in larger and more loosly connected clusters.\n",
    "\n",
    "Smaller epsilon value may lead to identification of isolated data which are most probable anomalies.\n",
    "\n",
    "Larger epsilon value reduce the sensitivity of capturing small anomalies or isolated data."
   ]
  },
  {
   "cell_type": "code",
   "execution_count": null,
   "id": "c15253a1-fe24-4e59-8953-644f262fd86d",
   "metadata": {},
   "outputs": [],
   "source": []
  },
  {
   "cell_type": "markdown",
   "id": "bc84d375-5ebf-4e86-a90b-a53e1e0c3fa7",
   "metadata": {},
   "source": [
    "## Q5. What are the differences between the core, border, and noise points in DBSCAN, and how do they relate to anomaly detection?"
   ]
  },
  {
   "cell_type": "markdown",
   "id": "2e43d07d-ad32-4b64-a628-f27b81dbb79e",
   "metadata": {},
   "source": [
    "* Difference\n",
    "\n",
    "Center Point - Points in a circle should be greater than minimum points(center point included).\n",
    "\n",
    "Border Point - Point in a circle should be less than minimum points(border point excluded).\n",
    "\n",
    "Noise Point - None of point lies in this point's circle.\n",
    "\n",
    "* We will consider noise points as outliers that is how it related to anomaly detection."
   ]
  },
  {
   "cell_type": "code",
   "execution_count": null,
   "id": "1932a2f6-aba7-4470-8b64-48c78ee4bb2d",
   "metadata": {},
   "outputs": [],
   "source": []
  },
  {
   "cell_type": "markdown",
   "id": "6a935989-5c07-4a9b-88f1-468c8a240c3b",
   "metadata": {},
   "source": [
    "## Q6. How does DBSCAN detect anomalies and what are the key parameters involved in the process?"
   ]
  },
  {
   "cell_type": "markdown",
   "id": "03c12c7b-f9d5-465b-a9c7-7f9834fc1c18",
   "metadata": {},
   "source": [
    "* Key Parametrs\n",
    "\n",
    "Epsilon\n",
    "\n",
    "Minimum Points\n",
    "\n",
    "* How does it detect anomalies?\n",
    "\n",
    "DBSCAN identifies anomalies as points that do not belongs to any dense cluster.\n",
    "\n",
    "It label points as core,border and noise based on their density and connectivety.\n",
    "\n",
    "Points that are not assigned to any cluster considered as anomalies."
   ]
  },
  {
   "cell_type": "code",
   "execution_count": null,
   "id": "7d1bad3a-38fe-4aa8-acec-cf73de6284b4",
   "metadata": {},
   "outputs": [],
   "source": []
  },
  {
   "cell_type": "markdown",
   "id": "b94af125-de4c-44fd-91b6-206ae48c7c06",
   "metadata": {},
   "source": [
    "## Q7. What is the make_circles package in scikit-learn used for?"
   ]
  },
  {
   "cell_type": "markdown",
   "id": "1a945bea-724c-472a-bbc7-0f780783f1b2",
   "metadata": {},
   "source": [
    "The make-circles pakage in scikit-learn used to create datasets of points are arranged in circles.\n",
    "\n",
    "This pakage is used for test the performance of algorithm, especially which are build for handle the non-linear relationship between datapoints."
   ]
  },
  {
   "cell_type": "code",
   "execution_count": null,
   "id": "29faa1d6-1ec2-454d-836f-62bb9e7027a4",
   "metadata": {},
   "outputs": [],
   "source": []
  },
  {
   "cell_type": "markdown",
   "id": "241fe235-3305-412d-b2bc-7bc2620487d5",
   "metadata": {},
   "source": [
    "## Q8. What are local outliers and global outliers, and how do they differ from each other?"
   ]
  },
  {
   "cell_type": "markdown",
   "id": "6a2f92bf-2220-4415-b6d8-11d1d9a396b5",
   "metadata": {},
   "source": [
    "Global Outlier - This is an outlier which is too far from any cluster.\n",
    "\n",
    "Local Outlier - This is an outlier which is bit close to any cluster."
   ]
  },
  {
   "cell_type": "code",
   "execution_count": null,
   "id": "014908ca-46cc-4da3-beb3-df4d819988ff",
   "metadata": {},
   "outputs": [],
   "source": []
  },
  {
   "cell_type": "markdown",
   "id": "43cb7685-9dff-4645-9fc0-81a5745fc803",
   "metadata": {},
   "source": [
    "## Q9. How can local outliers be detected using the Local Outlier Factor (LOF) algorithm?"
   ]
  },
  {
   "cell_type": "markdown",
   "id": "9494901e-4f99-4ae7-877f-a2a15d90aa6b",
   "metadata": {},
   "source": [
    "First of all LOF will calculate the average distance of datapoint to its k nearest neighbors for all points. - \n",
    "\n",
    "After that it will calculate average distance of all k nearest neighbors to thier neighbors.\n",
    "\n",
    "If the average distance of datapoint to its neighbors will higher that average distance of neighbors we will consider that perticular datapoint as outlier."
   ]
  },
  {
   "cell_type": "code",
   "execution_count": null,
   "id": "7c9b1db2-4e1b-4f4f-a94f-913bbea3b0a4",
   "metadata": {},
   "outputs": [],
   "source": []
  },
  {
   "cell_type": "markdown",
   "id": "7da3e41a-e936-470f-b7ed-4a8e8f7cb6b5",
   "metadata": {},
   "source": [
    "## Q10. How can global outliers be detected using the Isolation Forest algorithm?"
   ]
  },
  {
   "cell_type": "markdown",
   "id": "528b46f6-c39b-4c67-b9ec-6188963a4fd9",
   "metadata": {},
   "source": [
    "We will split whole data for every isolation tree.\n",
    "\n",
    "Then we will calculate the average depth of all tree and average depth of all datapoint.\n",
    "\n",
    "If average depth of datapoint will less that average depth of all tree, so we will consider that datapoint as outlier."
   ]
  },
  {
   "cell_type": "code",
   "execution_count": null,
   "id": "ff4011de-0277-44ce-b292-36987c77fa7a",
   "metadata": {},
   "outputs": [],
   "source": []
  },
  {
   "cell_type": "markdown",
   "id": "8fa5d350-83ff-4a3b-bec6-0be58694386d",
   "metadata": {},
   "source": [
    "## Q11. What are some real-world applications where local outlier detection is more appropriate than global outlier detection, and vice versa?"
   ]
  },
  {
   "cell_type": "markdown",
   "id": "6b2e9300-f576-4948-b07e-aacea8f5d573",
   "metadata": {},
   "source": [
    "* Local Outlier Detection\n",
    "\n",
    "Network Intusion Detection\n",
    "\n",
    "Manufacturing Quality Control\n",
    "\n",
    "Health Monitoring\n",
    "\n",
    "* Global Outlier Detection\n",
    "\n",
    "Credit Card Fraud Detection\n",
    "\n",
    "Environmental Monitoring\n",
    "\n"
   ]
  }
 ],
 "metadata": {
  "kernelspec": {
   "display_name": "Python 3 (ipykernel)",
   "language": "python",
   "name": "python3"
  },
  "language_info": {
   "codemirror_mode": {
    "name": "ipython",
    "version": 3
   },
   "file_extension": ".py",
   "mimetype": "text/x-python",
   "name": "python",
   "nbconvert_exporter": "python",
   "pygments_lexer": "ipython3",
   "version": "3.10.8"
  }
 },
 "nbformat": 4,
 "nbformat_minor": 5
}
